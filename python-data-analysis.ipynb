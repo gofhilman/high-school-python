{
 "cells": [
  {
   "cell_type": "markdown",
   "metadata": {},
   "source": [
    "# Analisis Data Menggunakan Python\n",
    "\n",
    "Oleh: Hilman Fikry"
   ]
  },
  {
   "cell_type": "markdown",
   "metadata": {},
   "source": [
    "## Python\n",
    "\n",
    "adalah bahasa pemrograman tingkat tinggi yang terkenal sederhana dan mudah dibaca.\n",
    "\n",
    "<img src=\"images/1-01.png\" alt=\"Jawaban 1-01\" width=\"400px\">"
   ]
  },
  {
   "cell_type": "markdown",
   "metadata": {},
   "source": [
    "## Variabel dalam Python\n",
    "\n",
    "digunakan untuk menyimpan nilai data.\n",
    "\n",
    "<img src=\"images/2-01.png\" alt=\"Jawaban 2-01\" width=\"400px\">"
   ]
  },
  {
   "cell_type": "markdown",
   "metadata": {},
   "source": [
    "### Cara membuat variabel\n",
    "\n",
    "Variabel dapat dibuat dengan memberikan nilai pada variabel tersebut dengan menggunakan tanda '='."
   ]
  },
  {
   "cell_type": "code",
   "execution_count": 5,
   "metadata": {},
   "outputs": [
    {
     "name": "stdout",
     "output_type": "stream",
     "text": [
      "x bernilai 5\n",
      "Nama saya adalah Hilman\n"
     ]
    }
   ],
   "source": [
    "x = 5\n",
    "print(f'x bernilai {x}')\n",
    "nama = 'Hilman'\n",
    "print(f'Nama saya adalah {nama}')"
   ]
  },
  {
   "cell_type": "markdown",
   "metadata": {},
   "source": [
    "### Cara menamakan variabel\n",
    "\n",
    "- Namanya harus dimulai dari huruf (a-z, A-Z) atau underscore (_).\n",
    "- Hanya bisa menggunakan huruf, angka, dan underscore.\n",
    "- Nama variabel sensitif terhadap huruf kapital/kecil."
   ]
  },
  {
   "cell_type": "code",
   "execution_count": 6,
   "metadata": {},
   "outputs": [
    {
     "ename": "NameError",
     "evalue": "name 'Usia' is not defined",
     "output_type": "error",
     "traceback": [
      "\u001b[0;31m---------------------------------------------------------------------------\u001b[0m",
      "\u001b[0;31mNameError\u001b[0m                                 Traceback (most recent call last)",
      "Cell \u001b[0;32mIn[6], line 2\u001b[0m\n\u001b[1;32m      1\u001b[0m usia \u001b[38;5;241m=\u001b[39m \u001b[38;5;241m20\u001b[39m\n\u001b[0;32m----> 2\u001b[0m \u001b[38;5;28mprint\u001b[39m(\u001b[43mUsia\u001b[49m)\n",
      "\u001b[0;31mNameError\u001b[0m: name 'Usia' is not defined"
     ]
    }
   ],
   "source": [
    "usia = 20\n",
    "print(Usia)"
   ]
  },
  {
   "cell_type": "markdown",
   "metadata": {},
   "source": [
    "## Tipe Data dalam Python\n",
    "\n",
    "- Integers: x = 10\n",
    "- Floats: pi = 3.14\n",
    "- Strings: message = \"Hello, world!\"\n",
    "- Lists: numbers = [1, 2, 3, 4, 5]\n",
    "- Dictionaries: student = {\"name\": \"Alice\", \"age\": 20}\n",
    "- Booleans: is_valid = True\n",
    "\n",
    "<img src=\"images/2-02.png\" alt=\"Jawaban 2-02\" width=\"400px\">\n",
    "<br>\n",
    "<img src=\"images/2-03.png\" alt=\"Jawaban 2-03\" width=\"400px\">\n",
    "<br>\n",
    "<img src=\"images/3-04.png\" alt=\"Jawaban 3-04\" width=\"400px\">"
   ]
  },
  {
   "cell_type": "markdown",
   "metadata": {},
   "source": [
    "## Latihan"
   ]
  },
  {
   "cell_type": "code",
   "execution_count": 7,
   "metadata": {},
   "outputs": [
    {
     "name": "stdout",
     "output_type": "stream",
     "text": [
      "kopi\n",
      "nasi\n",
      "teh\n",
      "jeruk\n"
     ]
    }
   ],
   "source": [
    "item = ['kopi', 'nasi', 'teh', 'jeruk']\n",
    "\n",
    "for isi in item:\n",
    "    print(isi)"
   ]
  },
  {
   "cell_type": "markdown",
   "metadata": {},
   "source": [
    "<img src=\"images/2-04.png\" alt=\"Jawaban 2-04\" width=\"400px\">"
   ]
  },
  {
   "cell_type": "code",
   "execution_count": 8,
   "metadata": {},
   "outputs": [
    {
     "name": "stdout",
     "output_type": "stream",
     "text": [
      "mangga\n"
     ]
    }
   ],
   "source": [
    "buah = ['jeruk', 'apel', 'mangga', 'duren']\n",
    "print(buah[2])"
   ]
  },
  {
   "cell_type": "markdown",
   "metadata": {},
   "source": [
    "<img src=\"images/3-01.png\" alt=\"Jawaban 3-01\" width=\"400px\">"
   ]
  },
  {
   "cell_type": "markdown",
   "metadata": {},
   "source": [
    "<img src=\"images/3-02.png\" alt=\"Jawaban 3-02\" width=\"400px\">"
   ]
  },
  {
   "cell_type": "code",
   "execution_count": 9,
   "metadata": {},
   "outputs": [
    {
     "name": "stdout",
     "output_type": "stream",
     "text": [
      "Input 5 angka (dipisah dengan enter):\n",
      "Angka ke-1: 1\n",
      "Angka ke-2: 2\n",
      "Angka ke-3: 3\n",
      "Angka ke-4: 4\n",
      "Angka ke-5: 5\n",
      "\n",
      "Total penjumlahan dari 5 angka tersebut adalah: 15\n"
     ]
    }
   ],
   "source": [
    "n = int(input('Input jumlah element list:'))\n",
    "\n",
    "print('Input', n, 'angka (dipisah dengan enter):')\n",
    "\n",
    "# simpan setiap angka yang diinput ke dalam list\n",
    "x = []\n",
    "for i in range(n):\n",
    "    angka = int(input(f'Angka ke-{i+1}:'))\n",
    "    print(f'Angka ke-{i+1}: {angka}')\n",
    "    x.append(angka)\n",
    "\n",
    "print()\n",
    "\n",
    "#cari total semua element list\n",
    "total = 0\n",
    "for i in range(n):\n",
    "    total = total+x[i]\n",
    "\n",
    "print('Total penjumlahan dari',n,'angka tersebut adalah:',total)"
   ]
  },
  {
   "cell_type": "markdown",
   "metadata": {},
   "source": [
    "<img src=\"images/3-03.png\" alt=\"Jawaban 3-03\" width=\"400px\">"
   ]
  },
  {
   "cell_type": "code",
   "execution_count": 10,
   "metadata": {},
   "outputs": [
    {
     "name": "stdout",
     "output_type": "stream",
     "text": [
      "0\n",
      "1\n",
      "2\n",
      "3\n"
     ]
    }
   ],
   "source": [
    "for n in range(4):\n",
    "    print(n)"
   ]
  },
  {
   "cell_type": "markdown",
   "metadata": {},
   "source": [
    "<img src=\"images/3-05.png\" alt=\"Jawaban 3-05\" width=\"400px\">"
   ]
  }
 ],
 "metadata": {
  "kernelspec": {
   "display_name": ".venv",
   "language": "python",
   "name": "python3"
  },
  "language_info": {
   "codemirror_mode": {
    "name": "ipython",
    "version": 3
   },
   "file_extension": ".py",
   "mimetype": "text/x-python",
   "name": "python",
   "nbconvert_exporter": "python",
   "pygments_lexer": "ipython3",
   "version": "3.12.3"
  }
 },
 "nbformat": 4,
 "nbformat_minor": 2
}
